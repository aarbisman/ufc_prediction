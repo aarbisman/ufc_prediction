{
 "cells": [
  {
   "cell_type": "markdown",
   "metadata": {},
   "source": [
    "# Predicting UFC fights using fighter statistics -- Making sense of incredible variation"
   ]
  },
  {
   "cell_type": "markdown",
   "metadata": {},
   "source": [
    "On July 6th, 2019, the multi-orgiization champion and olympian, Ben Askren was set to fight Jorge Masvidal, a comparetivly unaccomplished joureyman fighter. The betting markets had predicted Askren's victory, setting the betting odds to -227/+130 in the favor of Askren. Some armchair analysts (myself included) were even more confidet in the champions chances.\n",
    "\n",
    
      "<img src=\"askren_masvidal.png\" width=\"1000\" />\n",
    
    "\n",
    "In just five seconds, Masvidal knocked the olympian unconcious with a rarely-used flying knee."
   ]
  },
  {
   "cell_type": "markdown",
   "metadata": {},
   "source": [
    "## Project Objective\n",
    "It is undeniable that there is a large degree of variace and randomness in mixed martial arts fight data. But if given prior fight statistics, how much variance in this data can we explain through?\n",
    "\n",
    "To Answer this question, we will clean and preprocess this data, and explore our ability to accuratly predict the winner using three different statistical models. We will employ cross-validated grid searching to find the optimal set of hyperparameters for each model. Finally, we will combine our three models into an ensemble-learning model to try to improve cross-validated accuracy."
   ]
  },
  {
   "cell_type": "markdown",
   "metadata": {},
   "source": [
    "# The Variance Problem\n",
    "\n",
    "While randomness makes mixed martial arts an excitinng sport to watch, it makes it painful to analyze. Mixed Martial Arts is a real time sport that lacks empirical performance measurements, making sports-related analytics more difficult.\n",
    "\n",
    "Here are just some examples of the MMA variance problem:\n",
    "\n",
    "1) There is no way to measure force, speed, or landing location of a strike (compared to baseball pitches or hockey slapshots). Some headkicks might just glace off the top of a fighter's head, others (pictured above) are much more substantial. Both are recorded in the exact same way.\n",
    "\n",
    "2) There are multiple ways for a fighter to \"suddenly\" win the match, allowing for plenty opportuities for a losing opponent to suddenly win the match.\n",
    "\n",
    "3) Most recorded metrics are recorded and scored manually by UFC/Athletic Comission employees. Even referees intervene at varying times to stop the match (some fighters might stop the match right away when a fighter is unable to defend 2-3 head strikes in a row, other (more irresponsible) referees wait until 10+ undefended head strikes before interveening and declaring it a techincal knock out (when the fighter is concious but unable to defend themselves).\n",
    "\n",
    "This creates a significant disconect beweet the fight data and what \"actually\" might have happened during the fight. Our goal is to try to see if this discoencted data has some predictive power."
   ]
  },
  {
   "cell_type": "markdown",
   "metadata": {},
   "source": [
    "# Part 0: Python Imports"
   ]
  },
  {
   "cell_type": "code",
   "execution_count": 137,
   "metadata": {},
   "outputs": [],
   "source": [
    "## The essentials\n",
    "import numpy as np\n",
    "import pandas as pd\n",
    "import matplotlib.pyplot as plt\n",
    "import seaborn as sns\n",
    "\n",
    "## Data Preprocessing\n",
    "from scipy.stats import ttest_ind\n",
    "from sklearn.model_selection import train_test_split\n",
    "from sklearn.preprocessing import LabelEncoder, StandardScaler, RobustScaler, PowerTransformer, QuantileTransformer\n",
    "from sklearn.decomposition import PCA, KernelPCA\n",
    "\n",
    "## Modeling\n",
    "from sklearn.pipeline import make_pipeline, Pipeline\n",
    "from sklearn.linear_model import LogisticRegression\n",
    "from sklearn.tree import DecisionTreeClassifier\n",
    "from sklearn.svm import SVC\n",
    "from sklearn.neighbors import KNeighborsClassifier\n",
    "from sklearn.ensemble import RandomForestClassifier\n",
    "\n",
    "## Scoring and hyperparameter tuning\n",
    "from sklearn.model_selection import GridSearchCV, cross_val_score\n",
    "from sklearn.feature_selection import RFE, SelectKBest, f_classif, chi2, SelectPercentile, mutual_info_classif, VarianceThreshold\n",
    "from sklearn.metrics import accuracy_score, confusion_matrix"
   ]
  },
  {
   "cell_type": "markdown",
   "metadata": {},
   "source": [
    "# Part 1: Data Collection\n",
    "\n",
    "Ultimatly, this was not an interesting step (don't worry, plenty of code ahead). All I had to do was download the csv file and read it into a pandas dataframe"
   ]
  },
  {
   "cell_type": "code",
   "execution_count": 5,
   "metadata": {},
   "outputs": [
    {
     "data": {
      "text/plain": [
       "(5144, 145)"
      ]
     },
     "execution_count": 5,
     "metadata": {},
     "output_type": "execute_result"
    }
   ],
   "source": [
    "dat_rough = pd.read_csv(\"ufcdata/data.csv\")\n",
    "dat_rough.shape"
   ]
  },
  {
   "cell_type": "markdown",
   "metadata": {},
   "source": [
    "# Part 2: Data Preprocessing"
   ]
  },
  {
   "cell_type": "markdown",
   "metadata": {},
   "source": [
    "## 2.1 -- Dropping non-analytic columns\n",
    "\n",
    "Columns that fundamentally don't serve machine modeling purposes"
   ]
  },
  {
   "cell_type": "code",
   "execution_count": 6,
   "metadata": {},
   "outputs": [],
   "source": [
    "not_needed_cols = [\"title_bout\",\"R_fighter\",\"B_fighter\",\"Referee\",\"date\",\"location\",\"weight_class\",\"no_of_rounds\",\\\n",
    "                   \"B_Stance\",\"R_Stance\",\"B_Weight_lbs\",\"R_Weight_lbs\"]"
   ]
  },
  {
   "cell_type": "code",
   "execution_count": 7,
   "metadata": {},
   "outputs": [],
   "source": [
    "dat_rough.drop(columns = not_needed_cols, inplace=True)"
   ]
  },
  {
   "cell_type": "markdown",
   "metadata": {},
   "source": [
    "## 2.2 -- Dealing with null data"
   ]
  },
  {
   "cell_type": "code",
   "execution_count": 8,
   "metadata": {},
   "outputs": [
    {
     "data": {
      "text/plain": [
       "0      3355\n",
       "1       193\n",
       "2        61\n",
       "3        31\n",
       "4         8\n",
       "49      795\n",
       "50      170\n",
       "51       65\n",
       "52       35\n",
       "53       12\n",
       "98      243\n",
       "99       93\n",
       "100      31\n",
       "101      30\n",
       "102      19\n",
       "103       2\n",
       "104       1\n",
       "dtype: int64"
      ]
     },
     "execution_count": 8,
     "metadata": {},
     "output_type": "execute_result"
    }
   ],
   "source": [
    "dat_rough.isnull().sum(axis=1).value_counts().sort_index()"
   ]
  },
  {
   "cell_type": "markdown",
   "metadata": {},
   "source": [
    "Theres a pretty sudden jump from rows having 50 null value rows to rows having around 100 nulls, lets start with dropping rows that have close to 100 null values."
   ]
  },
  {
   "cell_type": "code",
   "execution_count": 9,
   "metadata": {},
   "outputs": [],
   "source": [
    "dat_rough.dropna(thresh = 75, inplace = True)"
   ]
  },
  {
   "cell_type": "markdown",
   "metadata": {},
   "source": [
    "A large portion of the missing data is from fight statistics, these are critical, so I'll have to drop them"
   ]
  },
  {
   "cell_type": "code",
   "execution_count": 10,
   "metadata": {},
   "outputs": [
    {
     "data": {
      "text/plain": [
       "R_avg_CLINCH_att             231\n",
       "R_avg_BODY_landed            231\n",
       "R_avg_BODY_att               231\n",
       "B_Reach_cms                  508\n",
       "B_avg_opp_DISTANCE_att       846\n",
       "B_avg_opp_DISTANCE_landed    846\n",
       "B_avg_opp_GROUND_att         846\n",
       "B_avg_opp_GROUND_landed      846\n",
       "B_avg_opp_KD                 846\n",
       "B_avg_opp_HEAD_landed        846\n",
       "B_avg_opp_CLINCH_landed      846\n",
       "B_avg_opp_LEG_att            846\n",
       "B_avg_opp_HEAD_att           846\n",
       "B_avg_DISTANCE_landed        846\n",
       "B_avg_CLINCH_landed          846\n",
       "B_avg_DISTANCE_att           846\n",
       "B_avg_opp_LEG_landed         846\n",
       "B_avg_CLINCH_att             846\n",
       "B_avg_BODY_landed            846\n",
       "B_avg_BODY_att               846\n",
       "dtype: int64"
      ]
     },
     "execution_count": 10,
     "metadata": {},
     "output_type": "execute_result"
    }
   ],
   "source": [
    "dat_rough.isna().sum().sort_values()[80:100]"
   ]
  },
  {
   "cell_type": "code",
   "execution_count": 11,
   "metadata": {},
   "outputs": [],
   "source": [
    "dat_rough.dropna(thresh = 86, inplace = True)"
   ]
  },
  {
   "cell_type": "markdown",
   "metadata": {},
   "source": [
    "It looks like the reach columns (the length of each fighters' arms) are fairly normally distributed with a large proportion near the center for mean, but a decently large non-normal spread for age and height, I will mean-impute the reach columns and drop rows with nulls in age/height"
   ]
  },
  {
   "cell_type": "code",
   "execution_count": 12,
   "metadata": {},
   "outputs": [
    {
     "data": {
      "text/plain": [
       "B_avg_opp_GROUND_landed        0\n",
       "B_avg_opp_DISTANCE_landed      0\n",
       "B_current_win_streak           0\n",
       "B_Height_cms                   1\n",
       "R_age                         12\n",
       "B_age                         56\n",
       "R_Reach_cms                  111\n",
       "B_Reach_cms                  260\n",
       "dtype: int64"
      ]
     },
     "execution_count": 12,
     "metadata": {},
     "output_type": "execute_result"
    }
   ],
   "source": [
    "dat_rough.isna().sum().sort_values()[125:]"
   ]
  },
  {
   "cell_type": "markdown",
   "metadata": {},
   "source": [
    "Fairly normal distribution here, imputing the mean value seems fairly rational"
   ]
  },
  {
   "cell_type": "code",
   "execution_count": 136,
   "metadata": {},
   "outputs": [
    {
     "data": {
      "image/png": "[encoded data removed]",
      "text/plain": [
       "<Figure size 432x288 with 1 Axes>"
      ]
     },
     "metadata": {
      "needs_background": "light"
     },
     "output_type": "display_data"
    }
   ],
   "source": [
    "dat_rough.B_Reach_cms.hist()\n",
    "plt.title(\"Distrituion of Arm Length (Blue corner fighter)\")\n",
    "plt.xlabel(\"Length in cm\")\n",
    "plt.ylabel(\"Frequecy\")\n",
    "plt.show()"
   ]
  },
  {
   "cell_type": "markdown",
   "metadata": {},
   "source": [
    "It doesnt seem too right to mean impute a column with this type of distribution, I will drop rows with nulls instead"
   ]
  },
  {
   "cell_type": "code",
   "execution_count": 135,
   "metadata": {},
   "outputs": [
    {
     "data": {
      "image/png": "[encoded data removed]",
      "text/plain": [
       "<Figure size 432x288 with 1 Axes>"
      ]
     },
     "metadata": {
      "needs_background": "light"
     },
     "output_type": "display_data"
    }
   ],
   "source": [
    "dat_rough.B_Height_cms.hist()\n",
    "plt.title(\"Distrituion of Height (Blue corner fighter)\")\n",
    "plt.xlabel(\"Height in cm\")\n",
    "plt.ylabel(\"Frequecy\")\n",
    "plt.show()"
   ]
  },
  {
   "cell_type": "code",
   "execution_count": 14,
   "metadata": {},
   "outputs": [],
   "source": [
    "## We impute the reach columns\n",
    "dat_rough[\"B_Reach_cms\"] = dat_rough[\"B_Reach_cms\"].fillna(dat_rough[\"B_Reach_cms\"].mean())\n",
    "dat_rough[\"R_Reach_cms\"] = dat_rough[\"R_Reach_cms\"].fillna(dat_rough[\"R_Reach_cms\"].mean())\n",
    "\n",
    "## And drop the remaining null rows\n",
    "dat_rough.dropna(axis=0, inplace=True)"
   ]
  },
  {
   "cell_type": "code",
   "execution_count": 15,
   "metadata": {},
   "outputs": [
    {
     "data": {
      "text/plain": [
       "(3587, 133)"
      ]
     },
     "execution_count": 15,
     "metadata": {},
     "output_type": "execute_result"
    }
   ],
   "source": [
    "dat_rough.shape"
   ]
  },
  {
   "cell_type": "markdown",
   "metadata": {},
   "source": [
    "### Bonus Data Wrangle:\n",
    "\n",
    "Since Draws only make up 1.56% of the data set (many of which are from earlier fights with different rule sets), I am going to drop them to turn this into a binary classification problem. This leaves all of my models vulnurable to out-of-sample outcomes, where I might encounter results that my model is not prepared to predict.\n",
    "\n",
    "From my (perfectly fallable) experience with this sport, these draws are usually unexpexted and highly contested to begin with. Additionally, sports betting platforms do not even include draws as a predictive option. Including draws in the data (and thus, the scope of prediction) offers additional randomness at very little benefit."
   ]
  },
  {
   "cell_type": "code",
   "execution_count": 16,
   "metadata": {},
   "outputs": [
    {
     "data": {
      "text/plain": [
       "Red     2319\n",
       "Blue    1212\n",
       "Draw      56\n",
       "Name: Winner, dtype: int64"
      ]
     },
     "execution_count": 16,
     "metadata": {},
     "output_type": "execute_result"
    }
   ],
   "source": [
    "dat_rough.Winner.value_counts()"
   ]
  },
  {
   "cell_type": "code",
   "execution_count": 17,
   "metadata": {},
   "outputs": [],
   "source": [
    "dat_clean = dat_rough[dat_rough[\"Winner\"] != \"Draw\"]"
   ]
  },
  {
   "cell_type": "markdown",
   "metadata": {},
   "source": [
    "Before we screen for significant columns, lets save a copy of the full dataset"
   ]
  },
  {
   "cell_type": "code",
   "execution_count": 18,
   "metadata": {},
   "outputs": [],
   "source": [
    "dat_all_cols = dat_clean.copy()"
   ]
  },
  {
   "cell_type": "markdown",
   "metadata": {},
   "source": [
    "## 2.3 -- Using Statistical tests to pre-screen unimpactful columns"
   ]
  },
  {
   "cell_type": "markdown",
   "metadata": {},
   "source": [
    "Matches that end with a Blue corner victory tend to have a higher amount times when the blue fighter sucsessfully lands distance strikes. This makes the feature, B_avg_DISTANCE_landed, a good candidate for our feature set."
   ]
  },
  {
   "cell_type": "code",
   "execution_count": 203,
   "metadata": {},
   "outputs": [
    {
     "data": {
      "image/png": "[encoded data removed]",
      "text/plain": [
       "<Figure size 490.25x432 with 1 Axes>"
      ]
     },
     "metadata": {
      "needs_background": "light"
     },
     "output_type": "display_data"
    }
   ],
   "source": [
    "## Setting our color pallete\n",
    "colors = [\"#FF0B04\", \"#4374B3\"]\n",
    "sns.set_palette(sns.color_palette(colors))\n",
    "\n",
    "## Our plot\n",
    "sns.FacetGrid(dat_clean,hue='Winner',size=6).map(sns.distplot,'B_avg_DISTANCE_landed').add_legend()\n",
    "plt.title('Blue Corner Average Strikes Ladnded at a Distance Distributions')\n",
    "plt.xlabel('Strikes Ladnded')\n",
    "plt.ylabel('Relative Frequency')\n",
    "plt.show()"
   ]
  },
  {
   "cell_type": "markdown",
   "metadata": {},
   "source": [
    "When we look at the distributions for the blue corner fighter's significant strikes landing accuracy, there is no difference in distribution between matches whith a blue corner victory and matches with a red corner victory. Since there is no difference, We can remove this variable from our feature set."
   ]
  },
  {
   "cell_type": "code",
   "execution_count": 201,
   "metadata": {},
   "outputs": [
    {
     "data": {
      "image/png": "[encoded data removed]",
      "text/plain": [
       "<Figure size 490.25x432 with 1 Axes>"
      ]
     },
     "metadata": {
      "needs_background": "light"
     },
     "output_type": "display_data"
    }
   ],
   "source": [
    "sns.FacetGrid(dat_clean,hue='Winner',size=6).map(sns.distplot,'B_avg_SIG_STR_pct').add_legend()\n",
    "plt.title('Blue Corner Significant Strike Accuracy Percentage Distributions')\n",
    "plt.xlabel('Accuracy Percentage')\n",
    "plt.ylabel('Relative Frequency')\n",
    "plt.show()"
   ]
  },
  {
   "cell_type": "markdown",
   "metadata": {},
   "source": [
    "To fully automate this process, we loop through every possible feature set and conduct a two sample t-test. This will tell us if we have significant evidence that there is a difference in a given statistic between matches when the blue corner wins and when the red corner wins."
   ]
  },
  {
   "cell_type": "code",
   "execution_count": 19,
   "metadata": {},
   "outputs": [
    {
     "name": "stderr",
     "output_type": "stream",
     "text": [
      "C:\\Users\\Alex\\Anaconda3\\lib\\site-packages\\scipy\\stats\\_distn_infrastructure.py:901: RuntimeWarning: invalid value encountered in greater\n",
      "  return (a < x) & (x < b)\n",
      "C:\\Users\\Alex\\Anaconda3\\lib\\site-packages\\scipy\\stats\\_distn_infrastructure.py:901: RuntimeWarning: invalid value encountered in less\n",
      "  return (a < x) & (x < b)\n",
      "C:\\Users\\Alex\\Anaconda3\\lib\\site-packages\\scipy\\stats\\_distn_infrastructure.py:1892: RuntimeWarning: invalid value encountered in less_equal\n",
      "  cond2 = cond0 & (x <= _a)\n"
     ]
    },
    {
     "name": "stdout",
     "output_type": "stream",
     "text": [
      "35 Insignificant Features\n"
     ]
    }
   ],
   "source": [
    "insignificant_cols = []\n",
    "\n",
    "## We loop through every feature and seperate them into two groups, features where the blue fighter won and feature\n",
    "## Where the red fighter won. We see if there is a statistically sigificant difference in feature at the 0.05 level\n",
    "for col_index in range(1, len(dat_clean.columns)):\n",
    "    col = dat_clean.columns[col_index]\n",
    "    \n",
    "    g1 = dat_clean[dat_clean[\"Winner\"] == \"Blue\"][col]\n",
    "    g2 = dat_clean[dat_clean[\"Winner\"] == \"Red\"][col]\n",
    "    \n",
    "    pval = ttest_ind(g1, g2)[1]\n",
    "    \n",
    "    if pval > 0.05:\n",
    "        insignificant_cols.append(col)\n",
    "        \n",
    "print(len(insignificant_cols), \"Insignificant Features\")"
   ]
  },
  {
   "cell_type": "code",
   "execution_count": 20,
   "metadata": {},
   "outputs": [],
   "source": [
    "dat = dat_clean.drop(columns=insignificant_cols)"
   ]
  },
  {
   "cell_type": "code",
   "execution_count": 21,
   "metadata": {},
   "outputs": [
    {
     "data": {
      "text/plain": [
       "(3531, 98)"
      ]
     },
     "execution_count": 21,
     "metadata": {},
     "output_type": "execute_result"
    }
   ],
   "source": [
    "dat.shape"
   ]
  },
  {
   "cell_type": "markdown",
   "metadata": {},
   "source": [
    "## 2.4 -- Label Transformation and Feature Seperation"
   ]
  },
  {
   "cell_type": "code",
   "execution_count": 22,
   "metadata": {},
   "outputs": [],
   "source": [
    "label = LabelEncoder()\n",
    "y = label.fit_transform(dat[\"Winner\"])\n",
    "features = dat.iloc[:,1:]"
   ]
  },
  {
   "cell_type": "code",
   "execution_count": 25,
   "metadata": {},
   "outputs": [],
   "source": [
    "s_scale = StandardScaler()\n",
    "r_scale = RobustScaler()\n",
    "p_transform = PowerTransformer(method=\"yeo-johnson\")\n",
    "q_transform = QuantileTransformer()"
   ]
  },
  {
   "cell_type": "markdown",
   "metadata": {},
   "source": [
    "## Issues With Correlation:\n",
    "\n",
    "Our data has a lot of inherent feature correlation. Number of head-striked landed is heavily related to number of head-strikes attempted. Head-strike accuracy (percentage) is directly related to head-strikes attempted and landed.\n",
    "\n",
    "For this reason, we should seperate our features into 4 different data sets:\n",
    "\n",
    "1) strikes/manuvers attempted\n",
    "\n",
    "2) strikes/maneuvers landed\n",
    "\n",
    "3) strike/maneuver percentage\n",
    "\n",
    "4) all other features (i.e. weight, height, previous wins)\n",
    "\n",
    "Our feature sets will be one of the first 3 groups, comined with the 4th group"
   ]
  },
  {
   "cell_type": "code",
   "execution_count": 26,
   "metadata": {},
   "outputs": [
    {
     "name": "stdout",
     "output_type": "stream",
     "text": [
      "32 'att' features\n",
      "30 'landed' features\n",
      "6 'percent' features\n",
      "29 other features\n"
     ]
    }
   ],
   "source": [
    "att_cols = []\n",
    "pct_cols = []\n",
    "landed_cols = []\n",
    "other_cols = []\n",
    "\n",
    "\n",
    "for col in features.columns:\n",
    "    if col[-3:] == \"att\":\n",
    "        att_cols.append(col)\n",
    "        \n",
    "    elif col[-3:] == \"pct\":\n",
    "        pct_cols.append(col)\n",
    "    \n",
    "    elif col[-6:] == \"landed\":\n",
    "        landed_cols.append(col)\n",
    "        \n",
    "    else:\n",
    "        other_cols.append(col)\n",
    "\n",
    "print(len(att_cols), \"'att' features\")\n",
    "print(len(landed_cols), \"'landed' features\")\n",
    "print(len(pct_cols), \"'percent' features\")\n",
    "print(len(other_cols), \"other features\")"
   ]
  },
  {
   "cell_type": "code",
   "execution_count": 27,
   "metadata": {},
   "outputs": [],
   "source": [
    "## Setting the seed (10/06/2018), the date of the infamous McGregor vs Nurmagomedov match\n",
    "np.random.seed(100618)\n",
    "\n",
    "x_train, x_test, y_train, y_test = train_test_split(features, y, test_size = 0.2, stratify = y)"
   ]
  },
  {
   "cell_type": "code",
   "execution_count": 28,
   "metadata": {},
   "outputs": [],
   "source": [
    "x_train_att, x_test_att = x_train[att_cols + other_cols], x_test[att_cols + other_cols]\n",
    "x_train_land, x_test_land = x_train[landed_cols + other_cols], x_test[landed_cols + other_cols]\n",
    "x_train_pct, x_test_pct = x_train[pct_cols + other_cols], x_test[pct_cols + other_cols]"
   ]
  },
  {
   "cell_type": "markdown",
   "metadata": {},
   "source": [
    "# Time to Model:\n",
    "\n",
    "A quick look at various classifiers showed that Logistic Regression, SVM, and Random Forests tended to have the highest average accuracy when doing 10-fold cross validation\n",
    "\n",
    "K Nearest Classifiers, Gradient Boosted Trees did not perform too well. Decision Tree's and Adaboosts were middle of the pack. For that reason, I will continue with a more in-depth analysis with Logistic Gregression, SVM, and Random Forests.\n",
    "\n",
    "Given the smaller size of the dataset(~3,500 training examples), Bringing the validation folds down to 5 might make more sense (this will lead to a decrease in variacne/increase in bias, but it is still much better than a basic holdout validation)"
   ]
  },
  {
   "cell_type": "markdown",
   "metadata": {},
   "source": [
    "# Lets look at Logistic Regression\n",
    "\n",
    "After running an exhaustive grid search on possible hyperparameters. I've found that using a robust scaler, PCA (until 95% of the variance is covered) and no penalty/regularization makes for the most accurate model."
   ]
  },
  {
   "cell_type": "code",
   "execution_count": 93,
   "metadata": {},
   "outputs": [
    {
     "name": "stdout",
     "output_type": "stream",
     "text": [
      "avg mean, cv=5: 0.6774097784472479\n",
      "avg mean, cv=10: 0.6763501491115955\n"
     ]
    }
   ],
   "source": [
    "features = landed_cols + other_cols\n",
    "\n",
    "full_logit_pipe = make_pipeline(\n",
    "    r_scale,\n",
    "    PCA(n_components=0.95),\n",
    "    LogisticRegression(max_iter = 10000, \n",
    "                       penalty ='none')\n",
    "\n",
    ")\n",
    "\n",
    "full_logit_pipe.fit(x_train[features], y_train)\n",
    "\n",
    "print(\"avg mean, cv=5:\", np.mean(cross_val_score(full_logit_pipe , x_train[features], y_train, cv=5)))\n",
    "print(\"avg mean, cv=10:\", np.mean(cross_val_score(full_logit_pipe , x_train[features], y_train, cv=10)))"
   ]
  },
  {
   "cell_type": "markdown",
   "metadata": {},
   "source": [
    "If you want to look at the hyperparmeters being examined, I've included the gridsearch-cv code\n",
    "\n",
    "Heads up about running this, this takes about an hour to run and includes 3240 model fits"
   ]
  },
  {
   "cell_type": "code",
   "execution_count": 90,
   "metadata": {},
   "outputs": [],
   "source": [
    "# from sklearn.feature_selection import VarianceThreshold\n",
    "\n",
    "# logit_pipe = Pipeline([\n",
    "#     (\"scale\",'passthrough'),\n",
    "#     (\"reduce_dim\", \"passthrough\"),\n",
    "#     (\"clf\" ,LogisticRegression(max_iter = 10000))])\n",
    "\n",
    "\n",
    "# logit_pipe.get_params\n",
    "\n",
    "\n",
    "# scalers = [s_scale, r_scale, p_transform, q_transform]\n",
    "\n",
    "# params_logit = [                \n",
    "#                 {\"scale\":scalers,\n",
    "#                 \"reduce_dim\":[PCA()],\n",
    "#                 \"reduce_dim__n_components\":[0.5, 0.75, 0.9, 0.95],\n",
    "#                 \"clf__penalty\":[\"l1\", \"l2\", 'none'],\n",
    "#                 \"clf__C\":[0.01, 0.1, 0.5]},\n",
    "               \n",
    "#                {\"scale\":scalers,\n",
    "#                 \"reduce_dim\":[KernelPCA()],\n",
    "#                 \"reduce_dim__kernel\":['poly', 'rbf', 'sigmoid'],\n",
    "#                 \"clf__penalty\":[\"l1\", \"l2\", 'none'],\n",
    "#                 \"clf__C\":[0.01, 0.1, 0.5]},\n",
    "                \n",
    "#                 {\"scale\":scalers,\n",
    "#                 \"reduce_dim\":[SelectKBest(chi2), SelectKBest(mutual_info_classif)],\n",
    "#                 \"reduce_dim__k\":[3, 5, 10, 20],\n",
    "#                 \"clf__penalty\":[\"l1\", \"l2\", 'none'],\n",
    "#                 \"clf__C\":[0.01, 0.1, 0.5]},\n",
    "                \n",
    "#                 {\"scale\":scalers,\n",
    "#                 \"reduce_dim\":[SelectPercentile()],\n",
    "#                 \"reduce_dim__percentile\":[0.5, 0.75, 0.9],\n",
    "#                 \"clf__penalty\":[\"l1\", \"l2\", 'none'],\n",
    "#                 \"clf__C\":[0.01, 0.1, 0.5]}]\n",
    "\n",
    "\n",
    "# gs_logit= GridSearchCV(estimator = logit_pipe,\n",
    "#                 param_grid = params_logit,\n",
    "#                 scoring = \"accuracy\",\n",
    "#                 cv = 5,\n",
    "#                 refit = True,\n",
    "#                 verbose = 2,\n",
    "#                 n_jobs = -1)\n",
    "\n",
    "# gs_logit.fit(x_train, y_train)"
   ]
  },
  {
   "cell_type": "code",
   "execution_count": 122,
   "metadata": {},
   "outputs": [],
   "source": [
    "# logit_best_params = gs_logit.best_params_\n",
    "# logit_best_score = gs_logit.best_score_\n",
    "# logit_all_scores = gs_logit.cv_results_\n",
    "\n",
    "# logit_best_score_hardcoded = {\"C\":0.01,\n",
    "#                              \"penalty\":\"none\",\n",
    "#                              \"reduce_dim\":PCA(n_components=0.95),\n",
    "#                              \"scale\":r_scale}"
   ]
  },
  {
   "cell_type": "markdown",
   "metadata": {},
   "source": [
    "# Lets look at SVMs\n",
    "\n",
    "A grid-search for SVM suggests that the optimal pipeline hyperparameters include quantile transforming, PCA (up to 95%), and a Support Vector Model with a C coefficient of 1 and an rbg kernel."
   ]
  },
  {
   "cell_type": "code",
   "execution_count": 81,
   "metadata": {},
   "outputs": [
    {
     "name": "stdout",
     "output_type": "stream",
     "text": [
      "avg mean, cv=5: 0.671386430678466\n",
      "avg mean, cv=10: 0.6745608099641631\n"
     ]
    }
   ],
   "source": [
    "features = landed_cols + other_cols\n",
    "\n",
    "svm_pipe = make_pipeline(\n",
    "    q_transform,\n",
    "    PCA(n_components=0.95),\n",
    "    SVC(C = 1, kernel = \"rbf\"))\n",
    "\n",
    "svm_pipe.fit(x_train[features], y_train)\n",
    "\n",
    "print(\"avg mean, cv=5:\", np.mean(cross_val_score(svm_pipe , x_train[features], y_train, cv=5)))\n",
    "print(\"avg mean, cv=10:\", np.mean(cross_val_score(svm_pipe , x_train[features], y_train, cv=10)))"
   ]
  },
  {
   "cell_type": "markdown",
   "metadata": {},
   "source": [
    "Hyperparameter Tuning is below\n",
    "\n",
    "Note: I am not checking for optimal gamma and C at the same time, both variables are responsible for higher classification at the cost of overfitting. Since combinations of models are more and more costly (especially with 5 fold cross validation), adding gamma to C (along with actual parameter options) would increase the total time and reasources needed to run this grid search by a factor of 3-4.\n",
    "\n",
    "Heads up, this is 3600 model fittings and takes about 2-3 hours to run (on old hp laptop)"
   ]
  },
  {
   "cell_type": "code",
   "execution_count": 82,
   "metadata": {},
   "outputs": [],
   "source": [
    "# svm_pipe = Pipeline([\n",
    "#     (\"scale\",'passthrough'),\n",
    "#     (\"reduce_dim\", \"passthrough\"),\n",
    "#     (\"clf\" ,SVC())])\n",
    "\n",
    "\n",
    "# svm_pipe.get_params\n",
    "\n",
    "\n",
    "# scalers = [s_scale, r_scale, p_transform, q_transform]\n",
    "\n",
    "# params_svm = [                \n",
    "#                 {\"scale\":scalers,\n",
    "#                 \"reduce_dim\":[PCA()],\n",
    "#                 \"reduce_dim__n_components\":[0.5, 0.75, 0.9, 0.95],\n",
    "#                 \"clf__kernel\":[\"linear\",\"rbf\", \"poly\",],\n",
    "#                 \"clf__C\":[0.01,0.1, 1, 10]},\n",
    "               \n",
    "                \n",
    "#                 {\"scale\":scalers,\n",
    "#                 \"reduce_dim\":[SelectKBest(chi2), SelectKBest(mutual_info_classif)],\n",
    "#                 \"reduce_dim__k\":[3, 5, 10, 20],\n",
    "#                \"clf__kernel\":[\"linear\",\"rbf\", \"poly\",],\n",
    "#                 \"clf__C\":[0.01,0.1, 1, 10]},\n",
    "                \n",
    "#                 {\"scale\":scalers,\n",
    "#                 \"reduce_dim\":[SelectPercentile()],\n",
    "#                 \"reduce_dim__percentile\":[0.5, 0.75, 0.9],\n",
    "#                 \"clf__kernel\":[\"linear\",\"rbf\", \"poly\",],\n",
    "#                 \"clf__C\":[0.01,0.1, 1, 10]}]\n",
    "\n",
    "\n",
    "\n",
    "# gs_svm= GridSearchCV(estimator = svm_pipe,\n",
    "#                 param_grid = params_svm,\n",
    "#                 scoring = \"accuracy\",\n",
    "#                 cv = 5,\n",
    "#                 refit = True,\n",
    "#                 verbose = 2,\n",
    "#                 n_jobs = -1)\n",
    "\n",
    "# gs_svm.fit(x_train, y_train)"
   ]
  },
  {
   "cell_type": "code",
   "execution_count": 120,
   "metadata": {},
   "outputs": [],
   "source": [
    "# svm_best_params = gs_svm.best_params_\n",
    "# svm_best_score = gs_svm.best_score_\n",
    "# svm_all_scores = gs_svm.cv_results_\n",
    "\n",
    "## Hard coding to be safe\n",
    "# svm_best_params_hard_coded = {\"c\":1,\n",
    "#                              \"kernel\":\"rbf\",\n",
    "#                              \"redice_dim\":PCA(n_components=0.95),\n",
    "#                              \"scale\":p_transform}"
   ]
  },
  {
   "cell_type": "markdown",
   "metadata": {},
   "source": [
    "# Lets look at Random Forests\n",
    "\n",
    "Since ensemble models like Random Forests thrive with larger data sets, 10 fold cross validation actually makes the models perfom worse than 5 fold. They also take much longer to run."
   ]
  },
  {
   "cell_type": "code",
   "execution_count": 157,
   "metadata": {},
   "outputs": [
    {
     "name": "stdout",
     "output_type": "stream",
     "text": [
      "avg mean, cv=5: 0.6720981610493943\n",
      "avg mean, cv=10: 0.6724508880938931\n"
     ]
    }
   ],
   "source": [
    "features = landed_cols + other_cols\n",
    "\n",
    "rf = RandomForestClassifier(n_estimators = 2000,\n",
    "                            bootstrap = True,\n",
    "                            criterion = 'gini',\n",
    "                            max_depth = None,\n",
    "                            max_features = \"log2\",\n",
    "                            min_samples_split = 20               \n",
    "                           )\n",
    "\n",
    "rf.fit(x_train[features], y_train)\n",
    "\n",
    "print(\"avg mean, cv=5:\", np.mean(cross_val_score(rf , x_train[features], y_train, cv=5)))\n",
    "print(\"avg mean, cv=10:\", np.mean(cross_val_score(rf , x_train[features], y_train, cv=5)))"
   ]
  },
  {
   "cell_type": "markdown",
   "metadata": {},
   "source": [
    "#### Note on the num_estimators parameter:\n",
    "\n",
    "Once your number of estimators is high enough, adding more offers little benefit and isnt worth the computing cost."
   ]
  },
  {
   "cell_type": "markdown",
   "metadata": {},
   "source": [
    "Hyperparameter Tuning. I will be keeping n_estimators steady at 2000, then doing one final test to see if increasing the number of estimators substantially increases cross validation accuracy. I tried a similar grid search that tried different n_estimators values and it ran for 2+ hours\n",
    "\n",
    "The problem with ensemble models like random forest is that they take much longer than regular models to run. A 3000+ model grid search that normally takes 2 hours to run for logistic regression or SVM's will take 6+ hours to run with this model. Therefore, I need to do several batches of hyperparameter tuning.\n",
    "\n",
    "There is no data scaling because random forest models do not need scaled data. We do not employ dimensionality reduction because ensemble models thrive with high-dimensional data."
   ]
  },
  {
   "cell_type": "markdown",
   "metadata": {},
   "source": [
    "#### Note:\n",
    "Due to the random nature of this model, two models fitted with the same hyperparameters can differ in performance"
   ]
  },
  {
   "cell_type": "code",
   "execution_count": 129,
   "metadata": {},
   "outputs": [],
   "source": [
    "# params = [{\"min_samples_split\":[2,5,10, 20],\n",
    "#           \"max_depth\":[2,3,4,5],\n",
    "#              \"criterion\":[\"gini\",\"entropy\"],\n",
    "#           \"min_samples_split\":[2,5,10,20],\n",
    "#           \"max_features\":[x_train.shape[1], \"log2\", \"sqrt\"]\n",
    "#               }]\n",
    "\n",
    "# params_1 = [{ \"max_depth\":[None,1,2,3],\n",
    "#              \"criterion\":[\"gini\",\"entropy\"],\n",
    "#           \"bootstrap\":[True, False]\n",
    "#               }]\n",
    "\n",
    "# params_2 = [{ \"max_depth\":[None,1,2,3],\n",
    "#              \"criterion\":[\"gini\"],\n",
    "#              \"bootstrap\":[True],\n",
    "#              \"min_samples_split\":[2,5,10]\n",
    "#               }]\n",
    "\n",
    "# params_3 = [{ \"max_depth\":[None],\n",
    "#              \"criterion\":[\"gini\"],\n",
    "#              \"bootstrap\":[True],\n",
    "#              \"min_samples_split\":[10,20,50,100],\n",
    "#              \"max_features\" : [\"sqrt\", \"log2\"]\n",
    "#               }]\n",
    "\n",
    "# gs_rf = GridSearchCV(estimator = rf,\n",
    "#                param_grid = params_3,\n",
    "#                scoring = \"accuracy\",\n",
    "#                cv = 5,\n",
    "#                refit = True,\n",
    "#                verbose = 2,\n",
    "#                n_jobs = -1)\n",
    "                       \n",
    "# gs_rf.fit(x_train, y_train)\n",
    "\n",
    "# gs_rf.best_params_\n",
    "# gs_rf.score(x_test, y_test)"
   ]
  },
  {
   "cell_type": "code",
   "execution_count": 124,
   "metadata": {},
   "outputs": [],
   "source": [
    "# rf_best_params = gs_rf.best_params_\n",
    "# rf_best_score = gs_rf.best_score_\n",
    "# rf_all_scores = gs_rf.cv_results_\n",
    "\n",
    "# rf_best_params_hard_coded = {\"bootstrap\":True,\n",
    "#                             \"criterion\":\"gini\",\n",
    "#                             \"max_depth\":None,\n",
    "#                             \"max_features\":\"log2\",\n",
    "#                             \"min_samples_split\":20}"
   ]
  },
  {
   "cell_type": "markdown",
   "metadata": {},
   "source": [
    "# Lets try to combine them into an ensemble classifier\n",
    "\n",
    "In their textbook, Python Machine Learning, 3rd edition, the authors, Sebastian Reschka and Vahid Mirjalili provide many instances of incredibly useful code. This code block (seen below) creates a majority vote classifier, which can be initialized with a list of models. These models indibidually vote \"via prediction\" the outcome label of a certain observation. The outcome with the highest number of votes is selected.\n",
    "\n",
    "This gives models the ability to cover each-others weaknesses. If one model has an unusual misclassification pattern, two different models can potentially cover some of those misclassifications, making their ensemble more powerful than each of the models individually. If all of the models misclassify in similar places, an ensemble model provides little assistance.\n",
    "\n",
    "Just to reiterate: the code block directly below is the work of Sebastian Reschka and Vahid Mirjalili. For useful code like this and an overall amazing source of machine learing knowledge, please check out their textook: Python Machine Learning, 3rd edition."
   ]
  },
  {
   "cell_type": "code",
   "execution_count": 109,
   "metadata": {},
   "outputs": [],
   "source": [
    "## This entire code block comes from the authors, Sebastian Reschka and Vahid Mirjalili. \n",
    "## In addition to amazing code blocks like this, their machine learning textbook is packed with useful sample code.\n",
    "from sklearn.base import BaseEstimator\n",
    "from sklearn.base import ClassifierMixin\n",
    "from sklearn.preprocessing import LabelEncoder\n",
    "from sklearn.base import clone\n",
    "from sklearn.pipeline import _name_estimators\n",
    "import numpy as np\n",
    "import operator\n",
    "\n",
    "\n",
    "class MajorityVoteClassifier(BaseEstimator, \n",
    "                             ClassifierMixin):\n",
    "    \"\"\" A majority vote ensemble classifier\n",
    "\n",
    "    Parameters\n",
    "    ----------\n",
    "    classifiers : array-like, shape = [n_classifiers]\n",
    "      Different classifiers for the ensemble\n",
    "\n",
    "    vote : str, {'classlabel', 'probability'} (default='classlabel')\n",
    "      If 'classlabel' the prediction is based on the argmax of\n",
    "        class labels. Else if 'probability', the argmax of\n",
    "        the sum of probabilities is used to predict the class label\n",
    "        (recommended for calibrated classifiers).\n",
    "\n",
    "    weights : array-like, shape = [n_classifiers], optional (default=None)\n",
    "      If a list of `int` or `float` values are provided, the classifiers\n",
    "      are weighted by importance; Uses uniform weights if `weights=None`.\n",
    "\n",
    "    \"\"\"\n",
    "    def __init__(self, classifiers, vote='classlabel', weights=None):\n",
    "\n",
    "        self.classifiers = classifiers\n",
    "        self.named_classifiers = {key: value for key, value\n",
    "                                  in _name_estimators(classifiers)}\n",
    "        self.vote = vote\n",
    "        self.weights = weights\n",
    "\n",
    "    def fit(self, X, y):\n",
    "        \"\"\" Fit classifiers.\n",
    "\n",
    "        Parameters\n",
    "        ----------\n",
    "        X : {array-like, sparse matrix}, shape = [n_examples, n_features]\n",
    "            Matrix of training examples.\n",
    "\n",
    "        y : array-like, shape = [n_examples]\n",
    "            Vector of target class labels.\n",
    "\n",
    "        Returns\n",
    "        -------\n",
    "        self : object\n",
    "\n",
    "        \"\"\"\n",
    "        if self.vote not in ('probability', 'classlabel'):\n",
    "            raise ValueError(\"vote must be 'probability' or 'classlabel'\"\n",
    "                             \"; got (vote=%r)\"\n",
    "                             % self.vote)\n",
    "\n",
    "        if self.weights and len(self.weights) != len(self.classifiers):\n",
    "            raise ValueError('Number of classifiers and weights must be equal'\n",
    "                             '; got %d weights, %d classifiers'\n",
    "                             % (len(self.weights), len(self.classifiers)))\n",
    "\n",
    "        # Use LabelEncoder to ensure class labels start with 0, which\n",
    "        # is important for np.argmax call in self.predict\n",
    "        self.lablenc_ = LabelEncoder()\n",
    "        self.lablenc_.fit(y)\n",
    "        self.classes_ = self.lablenc_.classes_\n",
    "        self.classifiers_ = []\n",
    "        for clf in self.classifiers:\n",
    "            fitted_clf = clone(clf).fit(X, self.lablenc_.transform(y))\n",
    "            self.classifiers_.append(fitted_clf)\n",
    "        return self\n",
    "\n",
    "    def predict(self, X):\n",
    "        \"\"\" Predict class labels for X.\n",
    "\n",
    "        Parameters\n",
    "        ----------\n",
    "        X : {array-like, sparse matrix}, shape = [n_examples, n_features]\n",
    "            Matrix of training examples.\n",
    "\n",
    "        Returns\n",
    "        ----------\n",
    "        maj_vote : array-like, shape = [n_examples]\n",
    "            Predicted class labels.\n",
    "            \n",
    "        \"\"\"\n",
    "        if self.vote == 'probability':\n",
    "            maj_vote = np.argmax(self.predict_proba(X), axis=1)\n",
    "        else:  # 'classlabel' vote\n",
    "\n",
    "            #  Collect results from clf.predict calls\n",
    "            predictions = np.asarray([clf.predict(X)\n",
    "                                      for clf in self.classifiers_]).T\n",
    "\n",
    "            maj_vote = np.apply_along_axis(\n",
    "                                      lambda x:\n",
    "                                      np.argmax(np.bincount(x,\n",
    "                                                weights=self.weights)),\n",
    "                                      axis=1,\n",
    "                                      arr=predictions)\n",
    "        maj_vote = self.lablenc_.inverse_transform(maj_vote)\n",
    "        return maj_vote\n",
    "\n",
    "    def predict_proba(self, X):\n",
    "        \"\"\" Predict class probabilities for X.\n",
    "\n",
    "        Parameters\n",
    "        ----------\n",
    "        X : {array-like, sparse matrix}, shape = [n_examples, n_features]\n",
    "            Training vectors, where n_examples is the number of examples and\n",
    "            n_features is the number of features.\n",
    "\n",
    "        Returns\n",
    "        ----------\n",
    "        avg_proba : array-like, shape = [n_examples, n_classes]\n",
    "            Weighted average probability for each class per example.\n",
    "\n",
    "        \"\"\"\n",
    "        probas = np.asarray([clf.predict_proba(X)\n",
    "                             for clf in self.classifiers_])\n",
    "        avg_proba = np.average(probas, axis=0, weights=self.weights)\n",
    "        return avg_proba\n",
    "\n",
    "    def get_params(self, deep=True):\n",
    "        \"\"\" Get classifier parameter names for GridSearch\"\"\"\n",
    "        if not deep:\n",
    "            return super(MajorityVoteClassifier, self).get_params(deep=False)\n",
    "        else:\n",
    "            out = self.named_classifiers.copy()\n",
    "            for name, step in self.named_classifiers.items():\n",
    "                for key, value in step.get_params(deep=True).items():\n",
    "                    out['%s__%s' % (name, key)] = value\n",
    "            return out"
   ]
  },
  {
   "cell_type": "code",
   "execution_count": 110,
   "metadata": {},
   "outputs": [
    {
     "data": {
      "text/plain": [
       "MajorityVoteClassifier(classifiers=[Pipeline(steps=[('scale', 'passthrough'),\n",
       "                                                    ('reduce_dim',\n",
       "                                                     'passthrough'),\n",
       "                                                    ('clf',\n",
       "                                                     LogisticRegression(max_iter=10000))]),\n",
       "                                    Pipeline(steps=[('quantiletransformer',\n",
       "                                                     QuantileTransformer()),\n",
       "                                                    ('pca',\n",
       "                                                     PCA(n_components=0.95)),\n",
       "                                                    ('svc', SVC(C=1))]),\n",
       "                                    RandomForestClassifier(max_features='log2',\n",
       "                                                           min_samples_split=20,\n",
       "                                                           n_estimators=2000)])"
      ]
     },
     "execution_count": 110,
     "metadata": {},
     "output_type": "execute_result"
    }
   ],
   "source": [
    "mv_clf = MajorityVoteClassifier(classifiers=[logit_pipe, svm_pipe, rf])\n",
    "mv_clf.fit(x_train[features],y_train)"
   ]
  },
  {
   "cell_type": "code",
   "execution_count": 132,
   "metadata": {},
   "outputs": [
    {
     "name": "stdout",
     "output_type": "stream",
     "text": [
      "Test Data Accuracy: 0.685997171145686\n"
     ]
    }
   ],
   "source": [
    "print(\"Test Data Accuracy:\", mv_clf.score(x_test[features], y_test))"
   ]
  },
  {
   "cell_type": "code",
   "execution_count": 112,
   "metadata": {},
   "outputs": [
    {
     "name": "stdout",
     "output_type": "stream",
     "text": [
      "avg mean, cv=5: 0.6784736082344819\n"
     ]
    }
   ],
   "source": [
    "print(\"avg mean, cv=5:\", np.mean(cross_val_score(mv_clf , x_train[features], y_train, cv=5)))"
   ]
  },
  {
   "cell_type": "markdown",
   "metadata": {},
   "source": [
    "We se that the ensemble learning classifier does not perform much better than any of the models that compose it. Ultimatly, this is likely due to patterns in the data can't be explaied through modeling (without irresponsibly overfitting)."
   ]
  },
  {
   "cell_type": "code",
   "execution_count": 204,
   "metadata": {},
   "outputs": [
    {
     "data": {
      "image/png": "[encoded data removed]",
      "text/plain": [
       "<Figure size 1152x432 with 1 Axes>"
      ]
     },
     "metadata": {
      "needs_background": "light"
     },
     "output_type": "display_data"
    }
   ],
   "source": [
    "importances = rf.feature_importances_\n",
    "indices = np.argsort(importances)[::-1]\n",
    "\n",
    "\n",
    "plt.figure(figsize=(16,6))\n",
    "plt.title(\"Feature importances\")\n",
    "plt.bar(range(x_train[features].shape[1]), importances[indices],\n",
    "        color=\"r\", align=\"center\")\n",
    "plt.xticks(range(x_train[features].shape[1]), indices)\n",
    "plt.xlim([-1, x_train[features].shape[1]])\n",
    "plt.show()"
   ]
  },
  {
   "cell_type": "code",
   "execution_count": 205,
   "metadata": {},
   "outputs": [
    {
     "name": "stdout",
     "output_type": "stream",
     "text": [
      "Top 10 most important indices:\n",
      "R_avg_opp_SIG_STR_landed\n",
      "R_avg_opp_HEAD_landed\n",
      "B_avg_DISTANCE_landed\n",
      "R_age\n",
      "R_avg_opp_DISTANCE_landed\n",
      "B_avg_HEAD_landed\n",
      "B_avg_SIG_STR_landed\n",
      "B_avg_opp_DISTANCE_landed\n",
      "R_avg_opp_TOTAL_STR_landed\n",
      "B_age\n"
     ]
    }
   ],
   "source": [
    "print(\"Top 10 most important indices:\")\n",
    "for i in indices[:10]:\n",
    "    print(x_train[features].columns[i])"
   ]
  },
  {
   "cell_type": "markdown",
   "metadata": {},
   "source": [
    "# Feature Importance Interpretation\n",
    "We can use our random forest model from before to get a list of feature importace values, from our values, we see that:\n",
    "\n",
    "1) There is no \"Magical Feature\". The features have a fairly similar level of importace. While the exact importance of the feature drops off, the first 15 features share a fairly similar level of importance\n",
    "\n",
    "2) Defence Might be a little bit more important than offense. When we look\n",
    "\n",
    "3) Younger might be better. We see that both age features are in the top 10 most important. The following plot suggests matches with a blue corner victory have fighters who tend to be a bit younger."
   ]
  },
  {
   "cell_type": "code",
   "execution_count": 220,
   "metadata": {},
   "outputs": [
    {
     "data": {
      "image/png": "[encoded data removed]",
      "text/plain": [
       "<Figure size 346.25x288 with 1 Axes>"
      ]
     },
     "metadata": {
      "needs_background": "light"
     },
     "output_type": "display_data"
    }
   ],
   "source": [
    "## Our plot\n",
    "sns.FacetGrid(dat_clean,hue='Winner',size=4).map(sns.distplot,'B_age',hist=False).add_legend()\n",
    "plt.title('Blue Corner Age Distributions')\n",
    "plt.xlabel('Age')\n",
    "plt.ylabel('Relative Frequency')\n",
    "plt.show()"
   ]
  },
  {
   "cell_type": "markdown",
   "metadata": {},
   "source": [
    "# Conclusion:\n",
    "\n",
    "\n",
    "\n"
   ]
  },
  {
   "cell_type": "markdown",
   "metadata": {},
   "source": [
    "Overall, it looks like there is a fair amount of variance in ufc fight data that can't be accuratly captured by a model. It makes sense for there to be a good amount of unexplainable variance in combat sports, and past fight statistics might not be enough to fully cover that variance.\n",
    "\n",
    "We saw that hypoerparameter tuning and model combination offered very little additional benefit to accuracy despite taking close to 80% of the time to implement and run (the optimized logistic regression model performed embarresingly similarly to a completely plain logistic regression). While every data project can be improved in one way or another, exhastive data preprocessing and hyperparameter tuning is well the \"diminishing returns\" portion of the project.\n",
    "\n",
    "At ~67% accuracy, this model might still have some potential in generating a positive return via sports-betting. Ultimatly, attempts to predict the winner of a match demonstrates the high level of unexplainable variancne in mixed martial arts data."
   ]
  }
 ],
 "metadata": {
  "kernelspec": {
   "display_name": "Python 3",
   "language": "python",
   "name": "python3"
  },
  "language_info": {
   "codemirror_mode": {
    "name": "ipython",
    "version": 3
   },
   "file_extension": ".py",
   "mimetype": "text/x-python",
   "name": "python",
   "nbconvert_exporter": "python",
   "pygments_lexer": "ipython3",
   "version": "3.7.0"
  }
 },
 "nbformat": 4,
 "nbformat_minor": 2
}
